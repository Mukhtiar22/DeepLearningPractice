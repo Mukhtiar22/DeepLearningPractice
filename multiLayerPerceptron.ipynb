{
 "cells": [
  {
   "cell_type": "code",
   "execution_count": 3,
   "id": "b3d71352",
   "metadata": {},
   "outputs": [
    {
     "name": "stdout",
     "output_type": "stream",
     "text": [
      "Model accuracy: 0.8200\n",
      "Number of layers in the network: 4\n",
      "Shape of weight matrices: [(20, 100), (100, 50), (50, 1)]\n",
      "Shape of bias vectors: [(100,), (50,), (1,)]\n"
     ]
    }
   ],
   "source": [
    "import numpy as np\n",
    "from sklearn.neural_network import MLPClassifier\n",
    "from sklearn.model_selection import train_test_split\n",
    "from sklearn.datasets import make_classification\n",
    "from sklearn.metrics import accuracy_score\n",
    "\n",
    "# 1. Generate some dummy data for a classification problem\n",
    "X, y = make_classification(n_samples=1000, n_features=20, n_classes=2, random_state=42)\n",
    "\n",
    "# 2. Split the data into training and testing sets\n",
    "X_train, X_test, y_train, y_test = train_test_split(X, y, test_size=0.2, random_state=42)\n",
    "\n",
    "# 3. Create an MLPClassifier model\n",
    "# hidden_layer_sizes: A tuple where each number is the number of neurons in a hidden layer.\n",
    "# In this example, we have two hidden layers: one with 100 neurons and one with 50 neurons.\n",
    "# max_iter: Maximum number of epochs (iterations) to run the training.\n",
    "mlp = MLPClassifier(hidden_layer_sizes=(100, 50), max_iter=500, random_state=42)\n",
    "\n",
    "# 4. Train the model using the training data\n",
    "mlp.fit(X_train, y_train)\n",
    "\n",
    "# 5. Make predictions on the test data\n",
    "y_pred = mlp.predict(X_test)\n",
    "\n",
    "# 6. Evaluate the model's accuracy\n",
    "accuracy = accuracy_score(y_test, y_pred)\n",
    "print(f'Model accuracy: {accuracy:.4f}')\n",
    "\n",
    "# Optional: You can also print the number of layers and weights/biases\n",
    "print(f'Number of layers in the network: {mlp.n_layers_}')\n",
    "print(f'Shape of weight matrices: {[w.shape for w in mlp.coefs_]}')\n",
    "print(f'Shape of bias vectors: {[b.shape for b in mlp.intercepts_]}')"
   ]
  },
  {
   "cell_type": "code",
   "execution_count": null,
   "id": "8ec823e4",
   "metadata": {},
   "outputs": [],
   "source": []
  },
  {
   "cell_type": "code",
   "execution_count": null,
   "id": "8383abee",
   "metadata": {},
   "outputs": [],
   "source": []
  }
 ],
 "metadata": {
  "kernelspec": {
   "display_name": "Python 3",
   "language": "python",
   "name": "python3"
  },
  "language_info": {
   "codemirror_mode": {
    "name": "ipython",
    "version": 3
   },
   "file_extension": ".py",
   "mimetype": "text/x-python",
   "name": "python",
   "nbconvert_exporter": "python",
   "pygments_lexer": "ipython3",
   "version": "3.10.14"
  }
 },
 "nbformat": 4,
 "nbformat_minor": 5
}
