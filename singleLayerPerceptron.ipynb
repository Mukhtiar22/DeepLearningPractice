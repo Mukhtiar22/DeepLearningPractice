{
 "cells": [
  {
   "cell_type": "code",
   "execution_count": 1,
   "id": "9db74458",
   "metadata": {},
   "outputs": [
    {
     "name": "stdout",
     "output_type": "stream",
     "text": [
      "AND Gate Predictions: [0 0 0 1]\n",
      "OR Gate Predictions: [0 1 1 1]\n",
      "XOR Gate Predictions: [0 0 0 0]\n"
     ]
    }
   ],
   "source": [
    "from sklearn.linear_model import Perceptron\n",
    "import numpy as np\n",
    "\n",
    "# Logic Gate Data\n",
    "X = np.array([[0,0],\n",
    "              [0,1],\n",
    "              [1,0],\n",
    "              [1,1]])\n",
    "\n",
    "y_and = np.array([0,0,0,1])   # AND Gate\n",
    "y_or  = np.array([0,1,1,1])   # OR Gate\n",
    "y_xor = np.array([0,1,1,0])   # XOR Gate\n",
    "\n",
    "# Perceptron Model\n",
    "model = Perceptron(max_iter=20, eta0=0.1, tol=None)\n",
    "\n",
    "# ---- Train AND ----\n",
    "model.fit(X, y_and)\n",
    "print(\"AND Gate Predictions:\", model.predict(X))\n",
    "\n",
    "# ---- Train OR ----\n",
    "model.fit(X, y_or)\n",
    "print(\"OR Gate Predictions:\", model.predict(X))\n",
    "\n",
    "# ---- Train XOR ----\n",
    "model.fit(X, y_xor)\n",
    "print(\"XOR Gate Predictions:\", model.predict(X))\n"
   ]
  },
  {
   "cell_type": "code",
   "execution_count": null,
   "id": "3cda7ea4",
   "metadata": {},
   "outputs": [],
   "source": []
  }
 ],
 "metadata": {
  "kernelspec": {
   "display_name": "Python 3",
   "language": "python",
   "name": "python3"
  },
  "language_info": {
   "codemirror_mode": {
    "name": "ipython",
    "version": 3
   },
   "file_extension": ".py",
   "mimetype": "text/x-python",
   "name": "python",
   "nbconvert_exporter": "python",
   "pygments_lexer": "ipython3",
   "version": "3.10.14"
  }
 },
 "nbformat": 4,
 "nbformat_minor": 5
}
